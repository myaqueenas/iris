from sklearn.datasets import load_iris
iris = load_iris()
iris
iris.keys()
print(iris.DESCR)
iris.target_names
iris.target
iris.data
import pandas as pd
iris_pd = pd.DataFrame(iris.data, columns=iris.feature_names)
iris_pd.head()
iris_pd['species'] = iris.target
iris_pd.head()
import seaborn as sns
import matplotlib.pyplot as plt
plt.figure(figsize=(12, 6))
sns.boxplot(x='sepal length (cm)', y='species', data=iris_pd, orient='h');
plt.figure(figsize=(12, 6))
sns.boxplot(x='sepal width (cm)', y='species', data=iris_pd, orient='h');
plt.figure(figsize=(12, 6))
sns.boxplot(x='petal length (cm)', y='species', data=iris_pd, orient='h');
plt.figure(figsize=(12, 6))
sns.boxplot(x='petal width (cm)', y='species', data=iris_pd, orient='h');
sns.pairplot(iris_pd, hue='species');
sns.pairplot(data=iris_pd,
                vars=['petal length (cm)', 'petal width (cm)'],
                hue='species', height=4);
plt.figure(figsize=(12, 6))
sns.scatterplot(x="petal length (cm)", y="petal width (cm)",
                    data=iris_pd, hue='species', palette="Set2");
iris_12 = iris_pd[iris_pd['species']!=0]
iris_12.info()
plt.figure(figsize=(12, 6))
sns.scatterplot(x="petal length (cm)", y="petal width (cm)",
                    data=iris_12, hue='species', palette="Set2");
